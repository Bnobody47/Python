{
 "cells": [
  {
   "cell_type": "code",
   "execution_count": 2,
   "id": "cab2a2d2-6182-439d-812d-24cbf9435bb4",
   "metadata": {},
   "outputs": [
    {
     "ename": "NameError",
     "evalue": "name 'bokeh' is not defined",
     "output_type": "error",
     "traceback": [
      "\u001b[1;31m---------------------------------------------------------------------------\u001b[0m",
      "\u001b[1;31mNameError\u001b[0m                                 Traceback (most recent call last)",
      "Cell \u001b[1;32mIn[2], line 1\u001b[0m\n\u001b[1;32m----> 1\u001b[0m \u001b[43mbokeh\u001b[49m\u001b[38;5;241m.\u001b[39mmodels\n\u001b[0;32m      2\u001b[0m bokeh\u001b[38;5;241m.\u001b[39mplotting\n\u001b[0;32m      3\u001b[0m bokeh\u001b[38;5;241m.\u001b[39mchart\n",
      "\u001b[1;31mNameError\u001b[0m: name 'bokeh' is not defined"
     ]
    }
   ],
   "source": [
    "from bokeh.chart import Scatter, output_file, show\n",
    "import pandas\n",
    "df=pandas.DataFrame(columns=([\"X\",\"Y\"])\n",
    "df[\"X\"]=[1,2,3,4,5]\n",
    "df[\"Y\"]=[5,6,4,5,3]\n",
    "\n",
    "p=Scatter(df, x=\"X\", y=\"Y\", title=\"Temperature Observations\",Xlabel=\"Day of observations\", ylabel=\"Temperature\")\n",
    "\n",
    "output_file(\"Scatter_chart\")"
   ]
  },
  {
   "cell_type": "code",
   "execution_count": null,
   "id": "d580825d-deea-4d13-ba42-6964c2437cb2",
   "metadata": {},
   "outputs": [],
   "source": []
  }
 ],
 "metadata": {
  "kernelspec": {
   "display_name": "Python 3 (ipykernel)",
   "language": "python",
   "name": "python3"
  },
  "language_info": {
   "codemirror_mode": {
    "name": "ipython",
    "version": 3
   },
   "file_extension": ".py",
   "mimetype": "text/x-python",
   "name": "python",
   "nbconvert_exporter": "python",
   "pygments_lexer": "ipython3",
   "version": "3.12.3"
  }
 },
 "nbformat": 4,
 "nbformat_minor": 5
}
