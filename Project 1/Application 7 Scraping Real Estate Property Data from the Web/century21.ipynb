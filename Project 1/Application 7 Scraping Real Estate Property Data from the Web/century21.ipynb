{
 "cells": [
  {
   "cell_type": "code",
   "execution_count": 1,
   "id": "f60f793b-2894-48e2-a63b-1053ebbaa83c",
   "metadata": {},
   "outputs": [],
   "source": [
    "import requests\n",
    "from bs4 import BeautifulSoup"
   ]
  },
  {
   "cell_type": "code",
   "execution_count": 3,
   "id": "52d49f34-5d41-4e7d-8dff-3a1fe3a5a52c",
   "metadata": {},
   "outputs": [],
   "source": [
    "r=requests.get(\"https://www.century21.com/real-estate/rock-springs-wy/LCWYROCKSPRINGS/\")\n",
    "c=r.content"
   ]
  },
  {
   "cell_type": "code",
   "execution_count": 4,
   "id": "9799946c-9717-41ed-8349-ba6fb4d964d3",
   "metadata": {},
   "outputs": [],
   "source": [
    "soup=BeautifulSoup(c,\"html.parser\")"
   ]
  },
  {
   "cell_type": "code",
   "execution_count": 7,
   "id": "abc59f42-c004-42c2-a0f4-90885f3131fb",
   "metadata": {},
   "outputs": [],
   "source": [
    "all=soup.find_all(\"div\",{\"class\":\"propertyRow\"})"
   ]
  },
  {
   "cell_type": "code",
   "execution_count": null,
   "id": "decb5d4e-3a37-45d9-8223-5442fe59db75",
   "metadata": {},
   "outputs": [],
   "source": []
  }
 ],
 "metadata": {
  "kernelspec": {
   "display_name": "Python 3 (ipykernel)",
   "language": "python",
   "name": "python3"
  },
  "language_info": {
   "codemirror_mode": {
    "name": "ipython",
    "version": 3
   },
   "file_extension": ".py",
   "mimetype": "text/x-python",
   "name": "python",
   "nbconvert_exporter": "python",
   "pygments_lexer": "ipython3",
   "version": "3.12.3"
  }
 },
 "nbformat": 4,
 "nbformat_minor": 5
}
